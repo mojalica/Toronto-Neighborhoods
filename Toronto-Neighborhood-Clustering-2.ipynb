{
    "nbformat_minor": 1, 
    "cells": [
        {
            "source": "<h1>Clustering Toronto's Neighborhoods  ", 
            "cell_type": "markdown", 
            "metadata": {
                "collapsed": true
            }
        }, 
        {
            "source": "<h3>IBM Data Science Course 9 Week 3 Project", 
            "cell_type": "markdown", 
            "metadata": {}
        }, 
        {
            "source": "**Step 1:** This project begins with importing the 'requests' library and designating which URL Toronto's neighborhoods will be scraped from.", 
            "cell_type": "markdown", 
            "metadata": {}
        }, 
        {
            "source": "import requests\nURL = requests.get('https://en.wikipedia.org/wiki/List_of_postal_codes_of_Canada:_M').text", 
            "cell_type": "code", 
            "metadata": {}, 
            "outputs": [], 
            "execution_count": 52
        }, 
        {
            "source": "**Step 2:** Importing the 'BeautifulSoup' library, which will be used to glean the html code from the given URL, which is displayed with proper indents. ", 
            "cell_type": "markdown", 
            "metadata": {}
        }, 
        {
            "source": "from bs4 import BeautifulSoup\n\n#Designating webpage's html code as 'soup'\nsoup = BeautifulSoup(URL,'lxml')\n\n#prints HTML code. prettify() tag adds indents to code for readability\n#print(soup.prettify())", 
            "cell_type": "code", 
            "metadata": {}, 
            "outputs": [], 
            "execution_count": 53
        }, 
        {
            "source": "**Step 3:** Calls upon specific table that contains Toronto's postal codes, boroughs, and neighborhoods.\n\nNOTE: First attempt did not work. The following code grabbed all entries (row by row), but didn't combine them properly into one dataframe.\n*entries = TNTable.find_all('tr')*  \n*for tr in entries:*  \n&nbsp;&nbsp;&nbsp;&nbsp;&nbsp;&nbsp;*td = tr.find_all('td')*  \n&nbsp;&nbsp;&nbsp;&nbsp;&nbsp;&nbsp;*row = [i.text for i in td]*  \n&nbsp;&nbsp;&nbsp;&nbsp;&nbsp;&nbsp;*print(row)*  \n", 
            "cell_type": "markdown", 
            "metadata": {}
        }, 
        {
            "source": "#Calls upon specific table in the webpage\nTNTable = soup.find('table',{'class':'wikitable sortable'})", 
            "cell_type": "code", 
            "metadata": {}, 
            "outputs": [], 
            "execution_count": 54
        }, 
        {
            "source": "**Step 4:** Establishes dictionary, loops through table's trs and tds to extract desired text ", 
            "cell_type": "markdown", 
            "metadata": {}
        }, 
        {
            "source": "longlist = []\nfor entries in TNTable.findAll('tr'):\n    columns = entries.findAll('td')\n    list = []\n    for column in columns:\n        list.append(column.text)\n    longlist.append(list)\n#print(longlist)\n", 
            "cell_type": "code", 
            "metadata": {
                "scrolled": true
            }, 
            "outputs": [], 
            "execution_count": 55
        }, 
        {
            "source": "**Step 5:** Creates dataframe \u2018df\u2019 with new column labels \"PostalCode\", \"Borough\", and \"Neighborhood\" instead of \"0\", \"1\", and \"2\".", 
            "cell_type": "markdown", 
            "metadata": {}
        }, 
        {
            "source": "import pandas as pd\nlonglist = [['M1A', 'Not assigned', 'Not assigned\\n'], ['M2A', 'Not assigned', 'Not assigned\\n'], ['M3A', 'North York', 'Parkwoods\\n'], ['M4A', 'North York', 'Victoria Village\\n'], ['M5A', 'Downtown Toronto', 'Harbourfront\\n'], ['M5A', 'Downtown Toronto', 'Regent Park\\n'], ['M6A', 'North York', 'Lawrence Heights\\n'], ['M6A', 'North York', 'Lawrence Manor\\n'], ['M7A', \"Queen's Park\", 'Not assigned\\n'], ['M8A', 'Not assigned', 'Not assigned\\n'], ['M9A', 'Etobicoke', 'Islington Avenue\\n'], ['M1B', 'Scarborough', 'Rouge\\n'], ['M1B', 'Scarborough', 'Malvern\\n'], ['M2B', 'Not assigned', 'Not assigned\\n'], ['M3B', 'North York', 'Don Mills North\\n'], ['M4B', 'East York', 'Woodbine Gardens\\n'], ['M4B', 'East York', 'Parkview Hill\\n'], ['M5B', 'Downtown Toronto', 'Ryerson\\n'], ['M5B', 'Downtown Toronto', 'Garden District\\n'], ['M6B', 'North York', 'Glencairn\\n'], ['M7B', 'Not assigned', 'Not assigned\\n'], ['M8B', 'Not assigned', 'Not assigned\\n'], ['M9B', 'Etobicoke', 'Cloverdale\\n'], ['M9B', 'Etobicoke', 'Islington\\n'], ['M9B', 'Etobicoke', 'Martin Grove\\n'], ['M9B', 'Etobicoke', 'Princess Gardens\\n'], ['M9B', 'Etobicoke', 'West Deane Park\\n'], ['M1C', 'Scarborough', 'Highland Creek\\n'], ['M1C', 'Scarborough', 'Rouge Hill\\n'], ['M1C', 'Scarborough', 'Port Union\\n'], ['M2C', 'Not assigned', 'Not assigned\\n'], ['M3C', 'North York', 'Flemingdon Park\\n'], ['M3C', 'North York', 'Don Mills South\\n'], ['M4C', 'East York', 'Woodbine Heights\\n'], ['M5C', 'Downtown Toronto', 'St. James Town\\n'], ['M6C', 'York', 'Humewood-Cedarvale\\n'], ['M7C', 'Not assigned', 'Not assigned\\n'], ['M8C', 'Not assigned', 'Not assigned\\n'], ['M9C', 'Etobicoke', 'Bloordale Gardens\\n'], ['M9C', 'Etobicoke', 'Eringate\\n'], ['M9C', 'Etobicoke', 'Markland Wood\\n'], ['M9C', 'Etobicoke', 'Old Burnhamthorpe\\n'], ['M1E', 'Scarborough', 'Guildwood\\n'], ['M1E', 'Scarborough', 'Morningside\\n'], ['M1E', 'Scarborough', 'West Hill\\n'], ['M2E', 'Not assigned', 'Not assigned\\n'], ['M3E', 'Not assigned', 'Not assigned\\n'], ['M4E', 'East Toronto', 'The Beaches\\n'], ['M5E', 'Downtown Toronto', 'Berczy Park\\n'], ['M6E', 'York', 'Caledonia-Fairbanks\\n'], ['M7E', 'Not assigned', 'Not assigned\\n'], ['M8E', 'Not assigned', 'Not assigned\\n'], ['M9E', 'Not assigned', 'Not assigned\\n'], ['M1G', 'Scarborough', 'Woburn\\n'], ['M2G', 'Not assigned', 'Not assigned\\n'], ['M3G', 'Not assigned', 'Not assigned\\n'], ['M4G', 'East York', 'Leaside\\n'], ['M5G', 'Downtown Toronto', 'Central Bay Street\\n'], ['M6G', 'Downtown Toronto', 'Christie\\n'], ['M7G', 'Not assigned', 'Not assigned\\n'], ['M8G', 'Not assigned', 'Not assigned\\n'], ['M9G', 'Not assigned', 'Not assigned\\n'], ['M1H', 'Scarborough', 'Cedarbrae\\n'], ['M2H', 'North York', 'Hillcrest Village\\n'], ['M3H', 'North York', 'Bathurst Manor\\n'], ['M3H', 'North York', 'Downsview North\\n'], ['M3H', 'North York', 'Wilson Heights\\n'], ['M4H', 'East York', 'Thorncliffe Park\\n'], ['M5H', 'Downtown Toronto', 'Adelaide\\n'], ['M5H', 'Downtown Toronto', 'King\\n'], ['M5H', 'Downtown Toronto', 'Richmond\\n'], ['M6H', 'West Toronto', 'Dovercourt Village\\n'], ['M6H', 'West Toronto', 'Dufferin\\n'], ['M7H', 'Not assigned', 'Not assigned\\n'], ['M8H', 'Not assigned', 'Not assigned\\n'], ['M9H', 'Not assigned', 'Not assigned\\n'], ['M1J', 'Scarborough', 'Scarborough Village\\n'], ['M2J', 'North York', 'Fairview\\n'], ['M2J', 'North York', 'Henry Farm\\n'], ['M2J', 'North York', 'Oriole\\n'], ['M3J', 'North York', 'Northwood Park\\n'], ['M3J', 'North York', 'York University\\n'], ['M4J', 'East York', 'East Toronto\\n'], ['M5J', 'Downtown Toronto', 'Harbourfront East\\n'], ['M5J', 'Downtown Toronto', 'Toronto Islands\\n'], ['M5J', 'Downtown Toronto', 'Union Station\\n'], ['M6J', 'West Toronto', 'Little Portugal\\n'], ['M6J', 'West Toronto', 'Trinity\\n'], ['M7J', 'Not assigned', 'Not assigned\\n'], ['M8J', 'Not assigned', 'Not assigned\\n'], ['M9J', 'Not assigned', 'Not assigned\\n'], ['M1K', 'Scarborough', 'East Birchmount Park\\n'], ['M1K', 'Scarborough', 'Ionview\\n'], ['M1K', 'Scarborough', 'Kennedy Park\\n'], ['M2K', 'North York', 'Bayview Village\\n'], ['M3K', 'North York', 'CFB Toronto\\n'], ['M3K', 'North York', 'Downsview East\\n'], ['M4K', 'East Toronto', 'The Danforth West\\n'], ['M4K', 'East Toronto', 'Riverdale\\n'], ['M5K', 'Downtown Toronto', 'Design Exchange\\n'], ['M5K', 'Downtown Toronto', 'Toronto Dominion Centre\\n'], ['M6K', 'West Toronto', 'Brockton\\n'], ['M6K', 'West Toronto', 'Exhibition Place\\n'], ['M6K', 'West Toronto', 'Parkdale Village\\n'], ['M7K', 'Not assigned', 'Not assigned\\n'], ['M8K', 'Not assigned', 'Not assigned\\n'], ['M9K', 'Not assigned', 'Not assigned\\n'], ['M1L', 'Scarborough', 'Clairlea\\n'], ['M1L', 'Scarborough', 'Golden Mile\\n'], ['M1L', 'Scarborough', 'Oakridge\\n'], ['M2L', 'North York', 'Silver Hills\\n'], ['M2L', 'North York', 'York Mills\\n'], ['M3L', 'North York', 'Downsview West\\n'], ['M4L', 'East Toronto', 'The Beaches West\\n'], ['M4L', 'East Toronto', 'India Bazaar\\n'], ['M5L', 'Downtown Toronto', 'Commerce Court\\n'], ['M5L', 'Downtown Toronto', 'Victoria Hotel\\n'], ['M6L', 'North York', 'Downsview\\n'], ['M6L', 'North York', 'North Park\\n'], ['M6L', 'North York', 'Upwood Park\\n'], ['M7L', 'Not assigned', 'Not assigned\\n'], ['M8L', 'Not assigned', 'Not assigned\\n'], ['M9L', 'North York', 'Humber Summit\\n'], ['M1M', 'Scarborough', 'Cliffcrest\\n'], ['M1M', 'Scarborough', 'Cliffside\\n'], ['M1M', 'Scarborough', 'Scarborough Village West\\n'], ['M2M', 'North York', 'Newtonbrook\\n'], ['M2M', 'North York', 'Willowdale\\n'], ['M3M', 'North York', 'Downsview Central\\n'], ['M4M', 'East Toronto', 'Studio District\\n'], ['M5M', 'North York', 'Bedford Park\\n'], ['M5M', 'North York', 'Lawrence Manor East\\n'], ['M6M', 'York', 'Del Ray\\n'], ['M6M', 'York', 'Keelesdale\\n'], ['M6M', 'York', 'Mount Dennis\\n'], ['M6M', 'York', 'Silverthorn\\n'], ['M7M', 'Not assigned', 'Not assigned\\n'], ['M8M', 'Not assigned', 'Not assigned\\n'], ['M9M', 'North York', 'Emery\\n'], ['M9M', 'North York', 'Humberlea\\n'], ['M1N', 'Scarborough', 'Birch Cliff\\n'], ['M1N', 'Scarborough', 'Cliffside West\\n'], ['M2N', 'North York', 'Willowdale South\\n'], ['M3N', 'North York', 'Downsview Northwest\\n'], ['M4N', 'Central Toronto', 'Lawrence Park\\n'], ['M5N', 'Central Toronto', 'Roselawn\\n'], ['M6N', 'York', 'The Junction North\\n'], ['M6N', 'York', 'Runnymede\\n'], ['M7N', 'Not assigned', 'Not assigned\\n'], ['M8N', 'Not assigned', 'Not assigned\\n'], ['M9N', 'York', 'Weston\\n'], ['M1P', 'Scarborough', 'Dorset Park\\n'], ['M1P', 'Scarborough', 'Scarborough Town Centre\\n'], ['M1P', 'Scarborough', 'Wexford Heights\\n'], ['M2P', 'North York', 'York Mills West\\n'], ['M3P', 'Not assigned', 'Not assigned\\n'], ['M4P', 'Central Toronto', 'Davisville North\\n'], ['M5P', 'Central Toronto', 'Forest Hill North\\n'], ['M5P', 'Central Toronto', 'Forest Hill West\\n'], ['M6P', 'West Toronto', 'High Park\\n'], ['M6P', 'West Toronto', 'The Junction South\\n'], ['M7P', 'Not assigned', 'Not assigned\\n'], ['M8P', 'Not assigned', 'Not assigned\\n'], ['M9P', 'Etobicoke', 'Westmount\\n'], ['M1R', 'Scarborough', 'Maryvale\\n'], ['M1R', 'Scarborough', 'Wexford\\n'], ['M2R', 'North York', 'Willowdale West\\n'], ['M3R', 'Not assigned', 'Not assigned\\n'], ['M4R', 'Central Toronto', 'North Toronto West\\n'], ['M5R', 'Central Toronto', 'The Annex\\n'], ['M5R', 'Central Toronto', 'North Midtown\\n'], ['M5R', 'Central Toronto', 'Yorkville\\n'], ['M6R', 'West Toronto', 'Parkdale\\n'], ['M6R', 'West Toronto', 'Roncesvalles\\n'], ['M7R', 'Mississauga', 'Canada Post Gateway Processing Centre\\n'], ['M8R', 'Not assigned', 'Not assigned\\n'], ['M9R', 'Etobicoke', 'Kingsview Village\\n'], ['M9R', 'Etobicoke', 'Martin Grove Gardens\\n'], ['M9R', 'Etobicoke', 'Richview Gardens\\n'], ['M9R', 'Etobicoke', 'St. Phillips\\n'], ['M1S', 'Scarborough', 'Agincourt\\n'], ['M2S', 'Not assigned', 'Not assigned\\n'], ['M3S', 'Not assigned', 'Not assigned\\n'], ['M4S', 'Central Toronto', 'Davisville\\n'], ['M5S', 'Downtown Toronto', 'Harbord\\n'], ['M5S', 'Downtown Toronto', 'University of Toronto\\n'], ['M6S', 'West Toronto', 'Runnymede\\n'], ['M6S', 'West Toronto', 'Swansea\\n'], ['M7S', 'Not assigned', 'Not assigned\\n'], ['M8S', 'Not assigned', 'Not assigned\\n'], ['M9S', 'Not assigned', 'Not assigned\\n'], ['M1T', 'Scarborough', 'Clarks Corners\\n'], ['M1T', 'Scarborough', 'Sullivan\\n'], ['M1T', 'Scarborough', \"Tam O'Shanter\\n\"], ['M2T', 'Not assigned', 'Not assigned\\n'], ['M3T', 'Not assigned', 'Not assigned\\n'], ['M4T', 'Central Toronto', 'Moore Park\\n'], ['M4T', 'Central Toronto', 'Summerhill East\\n'], ['M5T', 'Downtown Toronto', 'Chinatown\\n'], ['M5T', 'Downtown Toronto', 'Grange Park\\n'], ['M5T', 'Downtown Toronto', 'Kensington Market\\n'], ['M6T', 'Not assigned', 'Not assigned\\n'], ['M7T', 'Not assigned', 'Not assigned\\n'], ['M8T', 'Not assigned', 'Not assigned\\n'], ['M9T', 'Not assigned', 'Not assigned\\n'], ['M1V', 'Scarborough', 'Agincourt North\\n'], ['M1V', 'Scarborough', \"L'Amoreaux East\\n\"], ['M1V', 'Scarborough', 'Milliken\\n'], ['M1V', 'Scarborough', 'Steeles East\\n'], ['M2V', 'Not assigned', 'Not assigned\\n'], ['M3V', 'Not assigned', 'Not assigned\\n'], ['M4V', 'Central Toronto', 'Deer Park\\n'], ['M4V', 'Central Toronto', 'Forest Hill SE\\n'], ['M4V', 'Central Toronto', 'Rathnelly\\n'], ['M4V', 'Central Toronto', 'South Hill\\n'], ['M4V', 'Central Toronto', 'Summerhill West\\n'], ['M5V', 'Downtown Toronto', 'CN Tower\\n'], ['M5V', 'Downtown Toronto', 'Bathurst Quay\\n'], ['M5V', 'Downtown Toronto', 'Island airport\\n'], ['M5V', 'Downtown Toronto', 'Harbourfront West\\n'], ['M5V', 'Downtown Toronto', 'King and Spadina\\n'], ['M5V', 'Downtown Toronto', 'Railway Lands\\n'], ['M5V', 'Downtown Toronto', 'South Niagara\\n'], ['M6V', 'Not assigned', 'Not assigned\\n'], ['M7V', 'Not assigned', 'Not assigned\\n'], ['M8V', 'Etobicoke', 'Humber Bay Shores\\n'], ['M8V', 'Etobicoke', 'Mimico South\\n'], ['M8V', 'Etobicoke', 'New Toronto\\n'], ['M9V', 'Etobicoke', 'Albion Gardens\\n'], ['M9V', 'Etobicoke', 'Beaumond Heights\\n'], ['M9V', 'Etobicoke', 'Humbergate\\n'], ['M9V', 'Etobicoke', 'Jamestown\\n'], ['M9V', 'Etobicoke', 'Mount Olive\\n'], ['M9V', 'Etobicoke', 'Silverstone\\n'], ['M9V', 'Etobicoke', 'South Steeles\\n'], ['M9V', 'Etobicoke', 'Thistletown\\n'], ['M1W', 'Scarborough', \"L'Amoreaux West\\n\"], ['M2W', 'Not assigned', 'Not assigned\\n'], ['M3W', 'Not assigned', 'Not assigned\\n'], ['M4W', 'Downtown Toronto', 'Rosedale\\n'], ['M5W', 'Downtown Toronto', 'Stn A PO Boxes 25 The Esplanade\\n'], ['M6W', 'Not assigned', 'Not assigned\\n'], ['M7W', 'Not assigned', 'Not assigned\\n'], ['M8W', 'Etobicoke', 'Alderwood\\n'], ['M8W', 'Etobicoke', 'Long Branch\\n'], ['M9W', 'Etobicoke', 'Northwest\\n'], ['M1X', 'Scarborough', 'Upper Rouge\\n'], ['M2X', 'Not assigned', 'Not assigned\\n'], ['M3X', 'Not assigned', 'Not assigned\\n'], ['M4X', 'Downtown Toronto', 'Cabbagetown\\n'], ['M4X', 'Downtown Toronto', 'St. James Town\\n'], ['M5X', 'Downtown Toronto', 'First Canadian Place\\n'], ['M5X', 'Downtown Toronto', 'Underground city\\n'], ['M6X', 'Not assigned', 'Not assigned\\n'], ['M7X', 'Not assigned', 'Not assigned\\n'], ['M8X', 'Etobicoke', 'The Kingsway\\n'], ['M8X', 'Etobicoke', 'Montgomery Road\\n'], ['M8X', 'Etobicoke', 'Old Mill North\\n'], ['M9X', 'Not assigned', 'Not assigned\\n'], ['M1Y', 'Not assigned', 'Not assigned\\n'], ['M2Y', 'Not assigned', 'Not assigned\\n'], ['M3Y', 'Not assigned', 'Not assigned\\n'], ['M4Y', 'Downtown Toronto', 'Church and Wellesley\\n'], ['M5Y', 'Not assigned', 'Not assigned\\n'], ['M6Y', 'Not assigned', 'Not assigned\\n'], ['M7Y', 'East Toronto', 'Business Reply Mail Processing Centre 969 Eastern\\n'], ['M8Y', 'Etobicoke', 'Humber Bay\\n'], ['M8Y', 'Etobicoke', \"King's Mill Park\\n\"], ['M8Y', 'Etobicoke', 'Kingsway Park South East\\n'], ['M8Y', 'Etobicoke', 'Mimico NE\\n'], ['M8Y', 'Etobicoke', 'Old Mill South\\n'], ['M8Y', 'Etobicoke', 'The Queensway East\\n'], ['M8Y', 'Etobicoke', 'Royal York South East\\n'], ['M8Y', 'Etobicoke', 'Sunnylea\\n'], ['M9Y', 'Not assigned', 'Not assigned\\n'], ['M1Z', 'Not assigned', 'Not assigned\\n'], ['M2Z', 'Not assigned', 'Not assigned\\n'], ['M3Z', 'Not assigned', 'Not assigned\\n'], ['M4Z', 'Not assigned', 'Not assigned\\n'], ['M5Z', 'Not assigned', 'Not assigned\\n'], ['M6Z', 'Not assigned', 'Not assigned\\n'], ['M7Z', 'Not assigned', 'Not assigned\\n'], ['M8Z', 'Etobicoke', 'Kingsway Park South West\\n'], ['M8Z', 'Etobicoke', 'Mimico NW\\n'], ['M8Z', 'Etobicoke', 'The Queensway West\\n'], ['M8Z', 'Etobicoke', 'Royal York South West\\n'], ['M8Z', 'Etobicoke', 'South of Bloor\\n'], ['M9Z', 'Not assigned', 'Not assigned\\n']] \n\n\ndf = pd.DataFrame(longlist) \ndf.columns = ['Postal Code', 'Borough', 'Neighborhood']\ndf.head()", 
            "cell_type": "code", 
            "metadata": {}, 
            "outputs": [
                {
                    "output_type": "execute_result", 
                    "data": {
                        "text/plain": "  Postal Code           Borough        Neighborhood\n0         M1A      Not assigned      Not assigned\\n\n1         M2A      Not assigned      Not assigned\\n\n2         M3A        North York         Parkwoods\\n\n3         M4A        North York  Victoria Village\\n\n4         M5A  Downtown Toronto      Harbourfront\\n", 
                        "text/html": "<div>\n<style scoped>\n    .dataframe tbody tr th:only-of-type {\n        vertical-align: middle;\n    }\n\n    .dataframe tbody tr th {\n        vertical-align: top;\n    }\n\n    .dataframe thead th {\n        text-align: right;\n    }\n</style>\n<table border=\"1\" class=\"dataframe\">\n  <thead>\n    <tr style=\"text-align: right;\">\n      <th></th>\n      <th>Postal Code</th>\n      <th>Borough</th>\n      <th>Neighborhood</th>\n    </tr>\n  </thead>\n  <tbody>\n    <tr>\n      <th>0</th>\n      <td>M1A</td>\n      <td>Not assigned</td>\n      <td>Not assigned\\n</td>\n    </tr>\n    <tr>\n      <th>1</th>\n      <td>M2A</td>\n      <td>Not assigned</td>\n      <td>Not assigned\\n</td>\n    </tr>\n    <tr>\n      <th>2</th>\n      <td>M3A</td>\n      <td>North York</td>\n      <td>Parkwoods\\n</td>\n    </tr>\n    <tr>\n      <th>3</th>\n      <td>M4A</td>\n      <td>North York</td>\n      <td>Victoria Village\\n</td>\n    </tr>\n    <tr>\n      <th>4</th>\n      <td>M5A</td>\n      <td>Downtown Toronto</td>\n      <td>Harbourfront\\n</td>\n    </tr>\n  </tbody>\n</table>\n</div>"
                    }, 
                    "execution_count": 56, 
                    "metadata": {}
                }
            ], 
            "execution_count": 56
        }, 
        {
            "source": "**Step 6:** Gets names of indexes in column \"Borough\" that have value \"Not assigned\" and deletes these row indexes from dataframe", 
            "cell_type": "markdown", 
            "metadata": {}
        }, 
        {
            "source": "# Gets names of indexes in column \"Borough\" that have value \"Not assigned\"\nindexNames = df[ df['Borough'] == 'Not assigned' ].index\n \n# Deletes these row indexes from dataFrame\ndf.drop(indexNames , inplace=True)\ndf.head()", 
            "cell_type": "code", 
            "metadata": {}, 
            "outputs": [
                {
                    "output_type": "execute_result", 
                    "data": {
                        "text/plain": "  Postal Code           Borough        Neighborhood\n2         M3A        North York         Parkwoods\\n\n3         M4A        North York  Victoria Village\\n\n4         M5A  Downtown Toronto      Harbourfront\\n\n5         M5A  Downtown Toronto       Regent Park\\n\n6         M6A        North York  Lawrence Heights\\n", 
                        "text/html": "<div>\n<style scoped>\n    .dataframe tbody tr th:only-of-type {\n        vertical-align: middle;\n    }\n\n    .dataframe tbody tr th {\n        vertical-align: top;\n    }\n\n    .dataframe thead th {\n        text-align: right;\n    }\n</style>\n<table border=\"1\" class=\"dataframe\">\n  <thead>\n    <tr style=\"text-align: right;\">\n      <th></th>\n      <th>Postal Code</th>\n      <th>Borough</th>\n      <th>Neighborhood</th>\n    </tr>\n  </thead>\n  <tbody>\n    <tr>\n      <th>2</th>\n      <td>M3A</td>\n      <td>North York</td>\n      <td>Parkwoods\\n</td>\n    </tr>\n    <tr>\n      <th>3</th>\n      <td>M4A</td>\n      <td>North York</td>\n      <td>Victoria Village\\n</td>\n    </tr>\n    <tr>\n      <th>4</th>\n      <td>M5A</td>\n      <td>Downtown Toronto</td>\n      <td>Harbourfront\\n</td>\n    </tr>\n    <tr>\n      <th>5</th>\n      <td>M5A</td>\n      <td>Downtown Toronto</td>\n      <td>Regent Park\\n</td>\n    </tr>\n    <tr>\n      <th>6</th>\n      <td>M6A</td>\n      <td>North York</td>\n      <td>Lawrence Heights\\n</td>\n    </tr>\n  </tbody>\n</table>\n</div>"
                    }, 
                    "execution_count": 57, 
                    "metadata": {}
                }
            ], 
            "execution_count": 57
        }, 
        {
            "source": "**Step 7:** Removes string \u201c\\n\u201d from entries in Neighborhood column", 
            "cell_type": "markdown", 
            "metadata": {}
        }, 
        {
            "source": "df.Neighborhood = [x.strip('\\n') for x in df.Neighborhood]\ndf.head()", 
            "cell_type": "code", 
            "metadata": {}, 
            "outputs": [
                {
                    "output_type": "execute_result", 
                    "data": {
                        "text/plain": "  Postal Code           Borough      Neighborhood\n2         M3A        North York         Parkwoods\n3         M4A        North York  Victoria Village\n4         M5A  Downtown Toronto      Harbourfront\n5         M5A  Downtown Toronto       Regent Park\n6         M6A        North York  Lawrence Heights", 
                        "text/html": "<div>\n<style scoped>\n    .dataframe tbody tr th:only-of-type {\n        vertical-align: middle;\n    }\n\n    .dataframe tbody tr th {\n        vertical-align: top;\n    }\n\n    .dataframe thead th {\n        text-align: right;\n    }\n</style>\n<table border=\"1\" class=\"dataframe\">\n  <thead>\n    <tr style=\"text-align: right;\">\n      <th></th>\n      <th>Postal Code</th>\n      <th>Borough</th>\n      <th>Neighborhood</th>\n    </tr>\n  </thead>\n  <tbody>\n    <tr>\n      <th>2</th>\n      <td>M3A</td>\n      <td>North York</td>\n      <td>Parkwoods</td>\n    </tr>\n    <tr>\n      <th>3</th>\n      <td>M4A</td>\n      <td>North York</td>\n      <td>Victoria Village</td>\n    </tr>\n    <tr>\n      <th>4</th>\n      <td>M5A</td>\n      <td>Downtown Toronto</td>\n      <td>Harbourfront</td>\n    </tr>\n    <tr>\n      <th>5</th>\n      <td>M5A</td>\n      <td>Downtown Toronto</td>\n      <td>Regent Park</td>\n    </tr>\n    <tr>\n      <th>6</th>\n      <td>M6A</td>\n      <td>North York</td>\n      <td>Lawrence Heights</td>\n    </tr>\n  </tbody>\n</table>\n</div>"
                    }, 
                    "execution_count": 58, 
                    "metadata": {}
                }
            ], 
            "execution_count": 58
        }, 
        {
            "source": "**Step 8:** Replace 'Not assigned' Neighborhood with corresponding Borough", 
            "cell_type": "markdown", 
            "metadata": {}
        }, 
        {
            "source": "#Replace 'Not assigned' Neighborhood with corresponding Borough\n", 
            "cell_type": "code", 
            "metadata": {}, 
            "outputs": [], 
            "execution_count": null
        }, 
        {
            "source": "**Step 9**: Merge all neighborhoods together that have similar Postal Codes and Boroughs. Separate neighborhoods by commas.", 
            "cell_type": "markdown", 
            "metadata": {}
        }, 
        {
            "source": "df_neigh = df.groupby(['Postal Code','Borough'])['Neighborhood'].apply(','.join).reset_index()\ndf_neigh\n     ", 
            "cell_type": "code", 
            "metadata": {}, 
            "outputs": [
                {
                    "output_type": "execute_result", 
                    "data": {
                        "text/plain": "    Postal Code           Borough  \\\n0           M1B       Scarborough   \n1           M1C       Scarborough   \n2           M1E       Scarborough   \n3           M1G       Scarborough   \n4           M1H       Scarborough   \n5           M1J       Scarborough   \n6           M1K       Scarborough   \n7           M1L       Scarborough   \n8           M1M       Scarborough   \n9           M1N       Scarborough   \n10          M1P       Scarborough   \n11          M1R       Scarborough   \n12          M1S       Scarborough   \n13          M1T       Scarborough   \n14          M1V       Scarborough   \n15          M1W       Scarborough   \n16          M1X       Scarborough   \n17          M2H        North York   \n18          M2J        North York   \n19          M2K        North York   \n20          M2L        North York   \n21          M2M        North York   \n22          M2N        North York   \n23          M2P        North York   \n24          M2R        North York   \n25          M3A        North York   \n26          M3B        North York   \n27          M3C        North York   \n28          M3H        North York   \n29          M3J        North York   \n..          ...               ...   \n73          M6C              York   \n74          M6E              York   \n75          M6G  Downtown Toronto   \n76          M6H      West Toronto   \n77          M6J      West Toronto   \n78          M6K      West Toronto   \n79          M6L        North York   \n80          M6M              York   \n81          M6N              York   \n82          M6P      West Toronto   \n83          M6R      West Toronto   \n84          M6S      West Toronto   \n85          M7A      Queen's Park   \n86          M7R       Mississauga   \n87          M7Y      East Toronto   \n88          M8V         Etobicoke   \n89          M8W         Etobicoke   \n90          M8X         Etobicoke   \n91          M8Y         Etobicoke   \n92          M8Z         Etobicoke   \n93          M9A         Etobicoke   \n94          M9B         Etobicoke   \n95          M9C         Etobicoke   \n96          M9L        North York   \n97          M9M        North York   \n98          M9N              York   \n99          M9P         Etobicoke   \n100         M9R         Etobicoke   \n101         M9V         Etobicoke   \n102         M9W         Etobicoke   \n\n                                          Neighborhood  \n0                                        Rouge,Malvern  \n1                 Highland Creek,Rouge Hill,Port Union  \n2                      Guildwood,Morningside,West Hill  \n3                                               Woburn  \n4                                            Cedarbrae  \n5                                  Scarborough Village  \n6            East Birchmount Park,Ionview,Kennedy Park  \n7                        Clairlea,Golden Mile,Oakridge  \n8        Cliffcrest,Cliffside,Scarborough Village West  \n9                           Birch Cliff,Cliffside West  \n10   Dorset Park,Scarborough Town Centre,Wexford He...  \n11                                    Maryvale,Wexford  \n12                                           Agincourt  \n13               Clarks Corners,Sullivan,Tam O'Shanter  \n14   Agincourt North,L'Amoreaux East,Milliken,Steel...  \n15                                     L'Amoreaux West  \n16                                         Upper Rouge  \n17                                   Hillcrest Village  \n18                          Fairview,Henry Farm,Oriole  \n19                                     Bayview Village  \n20                             Silver Hills,York Mills  \n21                              Newtonbrook,Willowdale  \n22                                    Willowdale South  \n23                                     York Mills West  \n24                                     Willowdale West  \n25                                           Parkwoods  \n26                                     Don Mills North  \n27                     Flemingdon Park,Don Mills South  \n28       Bathurst Manor,Downsview North,Wilson Heights  \n29                      Northwood Park,York University  \n..                                                 ...  \n73                                  Humewood-Cedarvale  \n74                                 Caledonia-Fairbanks  \n75                                            Christie  \n76                         Dovercourt Village,Dufferin  \n77                             Little Portugal,Trinity  \n78          Brockton,Exhibition Place,Parkdale Village  \n79                    Downsview,North Park,Upwood Park  \n80         Del Ray,Keelesdale,Mount Dennis,Silverthorn  \n81                        The Junction North,Runnymede  \n82                        High Park,The Junction South  \n83                               Parkdale,Roncesvalles  \n84                                   Runnymede,Swansea  \n85                                        Not assigned  \n86               Canada Post Gateway Processing Centre  \n87   Business Reply Mail Processing Centre 969 Eastern  \n88          Humber Bay Shores,Mimico South,New Toronto  \n89                               Alderwood,Long Branch  \n90         The Kingsway,Montgomery Road,Old Mill North  \n91   Humber Bay,King's Mill Park,Kingsway Park Sout...  \n92   Kingsway Park South West,Mimico NW,The Queensw...  \n93                                    Islington Avenue  \n94   Cloverdale,Islington,Martin Grove,Princess Gar...  \n95   Bloordale Gardens,Eringate,Markland Wood,Old B...  \n96                                       Humber Summit  \n97                                     Emery,Humberlea  \n98                                              Weston  \n99                                           Westmount  \n100  Kingsview Village,Martin Grove Gardens,Richvie...  \n101  Albion Gardens,Beaumond Heights,Humbergate,Jam...  \n102                                          Northwest  \n\n[103 rows x 3 columns]", 
                        "text/html": "<div>\n<style scoped>\n    .dataframe tbody tr th:only-of-type {\n        vertical-align: middle;\n    }\n\n    .dataframe tbody tr th {\n        vertical-align: top;\n    }\n\n    .dataframe thead th {\n        text-align: right;\n    }\n</style>\n<table border=\"1\" class=\"dataframe\">\n  <thead>\n    <tr style=\"text-align: right;\">\n      <th></th>\n      <th>Postal Code</th>\n      <th>Borough</th>\n      <th>Neighborhood</th>\n    </tr>\n  </thead>\n  <tbody>\n    <tr>\n      <th>0</th>\n      <td>M1B</td>\n      <td>Scarborough</td>\n      <td>Rouge,Malvern</td>\n    </tr>\n    <tr>\n      <th>1</th>\n      <td>M1C</td>\n      <td>Scarborough</td>\n      <td>Highland Creek,Rouge Hill,Port Union</td>\n    </tr>\n    <tr>\n      <th>2</th>\n      <td>M1E</td>\n      <td>Scarborough</td>\n      <td>Guildwood,Morningside,West Hill</td>\n    </tr>\n    <tr>\n      <th>3</th>\n      <td>M1G</td>\n      <td>Scarborough</td>\n      <td>Woburn</td>\n    </tr>\n    <tr>\n      <th>4</th>\n      <td>M1H</td>\n      <td>Scarborough</td>\n      <td>Cedarbrae</td>\n    </tr>\n    <tr>\n      <th>5</th>\n      <td>M1J</td>\n      <td>Scarborough</td>\n      <td>Scarborough Village</td>\n    </tr>\n    <tr>\n      <th>6</th>\n      <td>M1K</td>\n      <td>Scarborough</td>\n      <td>East Birchmount Park,Ionview,Kennedy Park</td>\n    </tr>\n    <tr>\n      <th>7</th>\n      <td>M1L</td>\n      <td>Scarborough</td>\n      <td>Clairlea,Golden Mile,Oakridge</td>\n    </tr>\n    <tr>\n      <th>8</th>\n      <td>M1M</td>\n      <td>Scarborough</td>\n      <td>Cliffcrest,Cliffside,Scarborough Village West</td>\n    </tr>\n    <tr>\n      <th>9</th>\n      <td>M1N</td>\n      <td>Scarborough</td>\n      <td>Birch Cliff,Cliffside West</td>\n    </tr>\n    <tr>\n      <th>10</th>\n      <td>M1P</td>\n      <td>Scarborough</td>\n      <td>Dorset Park,Scarborough Town Centre,Wexford He...</td>\n    </tr>\n    <tr>\n      <th>11</th>\n      <td>M1R</td>\n      <td>Scarborough</td>\n      <td>Maryvale,Wexford</td>\n    </tr>\n    <tr>\n      <th>12</th>\n      <td>M1S</td>\n      <td>Scarborough</td>\n      <td>Agincourt</td>\n    </tr>\n    <tr>\n      <th>13</th>\n      <td>M1T</td>\n      <td>Scarborough</td>\n      <td>Clarks Corners,Sullivan,Tam O'Shanter</td>\n    </tr>\n    <tr>\n      <th>14</th>\n      <td>M1V</td>\n      <td>Scarborough</td>\n      <td>Agincourt North,L'Amoreaux East,Milliken,Steel...</td>\n    </tr>\n    <tr>\n      <th>15</th>\n      <td>M1W</td>\n      <td>Scarborough</td>\n      <td>L'Amoreaux West</td>\n    </tr>\n    <tr>\n      <th>16</th>\n      <td>M1X</td>\n      <td>Scarborough</td>\n      <td>Upper Rouge</td>\n    </tr>\n    <tr>\n      <th>17</th>\n      <td>M2H</td>\n      <td>North York</td>\n      <td>Hillcrest Village</td>\n    </tr>\n    <tr>\n      <th>18</th>\n      <td>M2J</td>\n      <td>North York</td>\n      <td>Fairview,Henry Farm,Oriole</td>\n    </tr>\n    <tr>\n      <th>19</th>\n      <td>M2K</td>\n      <td>North York</td>\n      <td>Bayview Village</td>\n    </tr>\n    <tr>\n      <th>20</th>\n      <td>M2L</td>\n      <td>North York</td>\n      <td>Silver Hills,York Mills</td>\n    </tr>\n    <tr>\n      <th>21</th>\n      <td>M2M</td>\n      <td>North York</td>\n      <td>Newtonbrook,Willowdale</td>\n    </tr>\n    <tr>\n      <th>22</th>\n      <td>M2N</td>\n      <td>North York</td>\n      <td>Willowdale South</td>\n    </tr>\n    <tr>\n      <th>23</th>\n      <td>M2P</td>\n      <td>North York</td>\n      <td>York Mills West</td>\n    </tr>\n    <tr>\n      <th>24</th>\n      <td>M2R</td>\n      <td>North York</td>\n      <td>Willowdale West</td>\n    </tr>\n    <tr>\n      <th>25</th>\n      <td>M3A</td>\n      <td>North York</td>\n      <td>Parkwoods</td>\n    </tr>\n    <tr>\n      <th>26</th>\n      <td>M3B</td>\n      <td>North York</td>\n      <td>Don Mills North</td>\n    </tr>\n    <tr>\n      <th>27</th>\n      <td>M3C</td>\n      <td>North York</td>\n      <td>Flemingdon Park,Don Mills South</td>\n    </tr>\n    <tr>\n      <th>28</th>\n      <td>M3H</td>\n      <td>North York</td>\n      <td>Bathurst Manor,Downsview North,Wilson Heights</td>\n    </tr>\n    <tr>\n      <th>29</th>\n      <td>M3J</td>\n      <td>North York</td>\n      <td>Northwood Park,York University</td>\n    </tr>\n    <tr>\n      <th>...</th>\n      <td>...</td>\n      <td>...</td>\n      <td>...</td>\n    </tr>\n    <tr>\n      <th>73</th>\n      <td>M6C</td>\n      <td>York</td>\n      <td>Humewood-Cedarvale</td>\n    </tr>\n    <tr>\n      <th>74</th>\n      <td>M6E</td>\n      <td>York</td>\n      <td>Caledonia-Fairbanks</td>\n    </tr>\n    <tr>\n      <th>75</th>\n      <td>M6G</td>\n      <td>Downtown Toronto</td>\n      <td>Christie</td>\n    </tr>\n    <tr>\n      <th>76</th>\n      <td>M6H</td>\n      <td>West Toronto</td>\n      <td>Dovercourt Village,Dufferin</td>\n    </tr>\n    <tr>\n      <th>77</th>\n      <td>M6J</td>\n      <td>West Toronto</td>\n      <td>Little Portugal,Trinity</td>\n    </tr>\n    <tr>\n      <th>78</th>\n      <td>M6K</td>\n      <td>West Toronto</td>\n      <td>Brockton,Exhibition Place,Parkdale Village</td>\n    </tr>\n    <tr>\n      <th>79</th>\n      <td>M6L</td>\n      <td>North York</td>\n      <td>Downsview,North Park,Upwood Park</td>\n    </tr>\n    <tr>\n      <th>80</th>\n      <td>M6M</td>\n      <td>York</td>\n      <td>Del Ray,Keelesdale,Mount Dennis,Silverthorn</td>\n    </tr>\n    <tr>\n      <th>81</th>\n      <td>M6N</td>\n      <td>York</td>\n      <td>The Junction North,Runnymede</td>\n    </tr>\n    <tr>\n      <th>82</th>\n      <td>M6P</td>\n      <td>West Toronto</td>\n      <td>High Park,The Junction South</td>\n    </tr>\n    <tr>\n      <th>83</th>\n      <td>M6R</td>\n      <td>West Toronto</td>\n      <td>Parkdale,Roncesvalles</td>\n    </tr>\n    <tr>\n      <th>84</th>\n      <td>M6S</td>\n      <td>West Toronto</td>\n      <td>Runnymede,Swansea</td>\n    </tr>\n    <tr>\n      <th>85</th>\n      <td>M7A</td>\n      <td>Queen's Park</td>\n      <td>Not assigned</td>\n    </tr>\n    <tr>\n      <th>86</th>\n      <td>M7R</td>\n      <td>Mississauga</td>\n      <td>Canada Post Gateway Processing Centre</td>\n    </tr>\n    <tr>\n      <th>87</th>\n      <td>M7Y</td>\n      <td>East Toronto</td>\n      <td>Business Reply Mail Processing Centre 969 Eastern</td>\n    </tr>\n    <tr>\n      <th>88</th>\n      <td>M8V</td>\n      <td>Etobicoke</td>\n      <td>Humber Bay Shores,Mimico South,New Toronto</td>\n    </tr>\n    <tr>\n      <th>89</th>\n      <td>M8W</td>\n      <td>Etobicoke</td>\n      <td>Alderwood,Long Branch</td>\n    </tr>\n    <tr>\n      <th>90</th>\n      <td>M8X</td>\n      <td>Etobicoke</td>\n      <td>The Kingsway,Montgomery Road,Old Mill North</td>\n    </tr>\n    <tr>\n      <th>91</th>\n      <td>M8Y</td>\n      <td>Etobicoke</td>\n      <td>Humber Bay,King's Mill Park,Kingsway Park Sout...</td>\n    </tr>\n    <tr>\n      <th>92</th>\n      <td>M8Z</td>\n      <td>Etobicoke</td>\n      <td>Kingsway Park South West,Mimico NW,The Queensw...</td>\n    </tr>\n    <tr>\n      <th>93</th>\n      <td>M9A</td>\n      <td>Etobicoke</td>\n      <td>Islington Avenue</td>\n    </tr>\n    <tr>\n      <th>94</th>\n      <td>M9B</td>\n      <td>Etobicoke</td>\n      <td>Cloverdale,Islington,Martin Grove,Princess Gar...</td>\n    </tr>\n    <tr>\n      <th>95</th>\n      <td>M9C</td>\n      <td>Etobicoke</td>\n      <td>Bloordale Gardens,Eringate,Markland Wood,Old B...</td>\n    </tr>\n    <tr>\n      <th>96</th>\n      <td>M9L</td>\n      <td>North York</td>\n      <td>Humber Summit</td>\n    </tr>\n    <tr>\n      <th>97</th>\n      <td>M9M</td>\n      <td>North York</td>\n      <td>Emery,Humberlea</td>\n    </tr>\n    <tr>\n      <th>98</th>\n      <td>M9N</td>\n      <td>York</td>\n      <td>Weston</td>\n    </tr>\n    <tr>\n      <th>99</th>\n      <td>M9P</td>\n      <td>Etobicoke</td>\n      <td>Westmount</td>\n    </tr>\n    <tr>\n      <th>100</th>\n      <td>M9R</td>\n      <td>Etobicoke</td>\n      <td>Kingsview Village,Martin Grove Gardens,Richvie...</td>\n    </tr>\n    <tr>\n      <th>101</th>\n      <td>M9V</td>\n      <td>Etobicoke</td>\n      <td>Albion Gardens,Beaumond Heights,Humbergate,Jam...</td>\n    </tr>\n    <tr>\n      <th>102</th>\n      <td>M9W</td>\n      <td>Etobicoke</td>\n      <td>Northwest</td>\n    </tr>\n  </tbody>\n</table>\n<p>103 rows \u00d7 3 columns</p>\n</div>"
                    }, 
                    "execution_count": 70, 
                    "metadata": {}
                }
            ], 
            "execution_count": 70
        }, 
        {
            "source": "**Step 10:** Use the .shape method to print the number of rows of your dataframe.", 
            "cell_type": "markdown", 
            "metadata": {}
        }, 
        {
            "source": "df_neigh.shape\n", 
            "cell_type": "code", 
            "metadata": {}, 
            "outputs": [
                {
                    "output_type": "execute_result", 
                    "data": {
                        "text/plain": "(103, 3)"
                    }, 
                    "execution_count": 71, 
                    "metadata": {}
                }
            ], 
            "execution_count": 71
        }, 
        {
            "source": "<H2>Part 2", 
            "cell_type": "markdown", 
            "metadata": {}
        }, 
        {
            "source": "**Step 1:** Use 'geocoder' library to get the latitude and the longitude coordinates of Toronto's neighborhoods.\n\n**THE CODE BELOW DOES NOT WORK.**  \n*Note: This code was provided by Coursera's IBM Data Science course staffmembers.*\n", 
            "cell_type": "markdown", 
            "metadata": {}
        }, 
        {
            "source": "import geocoder # import geocoder\n\n# initialize your variable to None\nlat_lng_coords = None\n\n# loop until you get the coordinates\nwhile(lat_lng_coords is None):\n  g = geocoder.google('{}, Toronto, Ontario'.format(postal_code))\n  lat_lng_coords = g.latlng\n\nlatitude = lat_lng_coords[0]\nlongitude = lat_lng_coords[1]", 
            "cell_type": "code", 
            "metadata": {}, 
            "outputs": [
                {
                    "output_type": "error", 
                    "evalue": "No module named 'geocoder'", 
                    "traceback": [
                        "\u001b[0;31m---------------------------------------------------------------------------\u001b[0m", 
                        "\u001b[0;31mImportError\u001b[0m                               Traceback (most recent call last)", 
                        "\u001b[0;32m<ipython-input-40-f9a1a3d479bb>\u001b[0m in \u001b[0;36m<module>\u001b[0;34m()\u001b[0m\n\u001b[0;32m----> 1\u001b[0;31m \u001b[0;32mimport\u001b[0m \u001b[0mgeocoder\u001b[0m \u001b[0;31m# import geocoder\u001b[0m\u001b[0;34m\u001b[0m\u001b[0m\n\u001b[0m\u001b[1;32m      2\u001b[0m \u001b[0;34m\u001b[0m\u001b[0m\n\u001b[1;32m      3\u001b[0m \u001b[0;31m# initialize your variable to None\u001b[0m\u001b[0;34m\u001b[0m\u001b[0;34m\u001b[0m\u001b[0m\n\u001b[1;32m      4\u001b[0m \u001b[0mlat_lng_coords\u001b[0m \u001b[0;34m=\u001b[0m \u001b[0;32mNone\u001b[0m\u001b[0;34m\u001b[0m\u001b[0m\n\u001b[1;32m      5\u001b[0m \u001b[0;34m\u001b[0m\u001b[0m\n", 
                        "\u001b[0;31mImportError\u001b[0m: No module named 'geocoder'"
                    ], 
                    "ename": "ImportError"
                }
            ], 
            "execution_count": 40
        }, 
        {
            "source": "**I REPEAT: THE ABOVE CODE DOES NOT WORK**\n\nWill use .csv file from http://cocl.us/Geospatial_data", 
            "cell_type": "markdown", 
            "metadata": {}
        }, 
        {
            "source": "df_lat_long=pd.read_csv('http://cocl.us/Geospatial_data')\ndf_lat_long.head()", 
            "cell_type": "code", 
            "metadata": {}, 
            "outputs": [
                {
                    "output_type": "stream", 
                    "name": "stdout", 
                    "text": "  Postal Code   Latitude  Longitude\n0         M1B  43.806686 -79.194353\n1         M1C  43.784535 -79.160497\n2         M1E  43.763573 -79.188711\n3         M1G  43.770992 -79.216917\n4         M1H  43.773136 -79.239476\n"
                }
            ], 
            "execution_count": 45
        }, 
        {
            "source": "Step 2: Combine Toronto's Neighborhood dataframe with Lat-Long dataframe", 
            "cell_type": "markdown", 
            "metadata": {}
        }, 
        {
            "source": "df_all_rows = pd.concat([df_neigh, df_lat_long], axis=1)\ndf_all_rows.head()\n\n\ndf_all_rows = pd.merge(df_new, df_n,", 
            "cell_type": "code", 
            "metadata": {}, 
            "outputs": [
                {
                    "output_type": "execute_result", 
                    "data": {
                        "text/plain": "  Postal Code      Borough                          Neighborhood Postal Code  \\\n0         M1B  Scarborough                         Rouge,Malvern         M1B   \n1         M1C  Scarborough  Highland Creek,Rouge Hill,Port Union         M1C   \n2         M1E  Scarborough       Guildwood,Morningside,West Hill         M1E   \n3         M1G  Scarborough                                Woburn         M1G   \n4         M1H  Scarborough                             Cedarbrae         M1H   \n\n    Latitude  Longitude  \n0  43.806686 -79.194353  \n1  43.784535 -79.160497  \n2  43.763573 -79.188711  \n3  43.770992 -79.216917  \n4  43.773136 -79.239476  ", 
                        "text/html": "<div>\n<style scoped>\n    .dataframe tbody tr th:only-of-type {\n        vertical-align: middle;\n    }\n\n    .dataframe tbody tr th {\n        vertical-align: top;\n    }\n\n    .dataframe thead th {\n        text-align: right;\n    }\n</style>\n<table border=\"1\" class=\"dataframe\">\n  <thead>\n    <tr style=\"text-align: right;\">\n      <th></th>\n      <th>Postal Code</th>\n      <th>Borough</th>\n      <th>Neighborhood</th>\n      <th>Postal Code</th>\n      <th>Latitude</th>\n      <th>Longitude</th>\n    </tr>\n  </thead>\n  <tbody>\n    <tr>\n      <th>0</th>\n      <td>M1B</td>\n      <td>Scarborough</td>\n      <td>Rouge,Malvern</td>\n      <td>M1B</td>\n      <td>43.806686</td>\n      <td>-79.194353</td>\n    </tr>\n    <tr>\n      <th>1</th>\n      <td>M1C</td>\n      <td>Scarborough</td>\n      <td>Highland Creek,Rouge Hill,Port Union</td>\n      <td>M1C</td>\n      <td>43.784535</td>\n      <td>-79.160497</td>\n    </tr>\n    <tr>\n      <th>2</th>\n      <td>M1E</td>\n      <td>Scarborough</td>\n      <td>Guildwood,Morningside,West Hill</td>\n      <td>M1E</td>\n      <td>43.763573</td>\n      <td>-79.188711</td>\n    </tr>\n    <tr>\n      <th>3</th>\n      <td>M1G</td>\n      <td>Scarborough</td>\n      <td>Woburn</td>\n      <td>M1G</td>\n      <td>43.770992</td>\n      <td>-79.216917</td>\n    </tr>\n    <tr>\n      <th>4</th>\n      <td>M1H</td>\n      <td>Scarborough</td>\n      <td>Cedarbrae</td>\n      <td>M1H</td>\n      <td>43.773136</td>\n      <td>-79.239476</td>\n    </tr>\n  </tbody>\n</table>\n</div>"
                    }, 
                    "execution_count": 83, 
                    "metadata": {}
                }
            ], 
            "execution_count": 83
        }, 
        {
            "source": "", 
            "cell_type": "code", 
            "metadata": {}, 
            "outputs": [], 
            "execution_count": null
        }, 
        {
            "source": "", 
            "cell_type": "code", 
            "metadata": {}, 
            "outputs": [], 
            "execution_count": null
        }
    ], 
    "metadata": {
        "kernelspec": {
            "display_name": "Python 3.5", 
            "name": "python3", 
            "language": "python"
        }, 
        "language_info": {
            "mimetype": "text/x-python", 
            "nbconvert_exporter": "python", 
            "version": "3.5.5", 
            "name": "python", 
            "pygments_lexer": "ipython3", 
            "file_extension": ".py", 
            "codemirror_mode": {
                "version": 3, 
                "name": "ipython"
            }
        }
    }, 
    "nbformat": 4
}